{
  "cells": [
    {
      "cell_type": "markdown",
      "metadata": {
        "id": "hNlGsYgjjepg"
      },
      "source": [
        "# E1: Unimodal Language Representations (Coding Part)\n",
        "---\n",
        "Welcome to the coding part of the first exercise sheet. It will be about training `Transformer Language Models` (LMs) on text. It consists of six major components:\n",
        "* **Data Preparation**: For that, please download the `lotr.txt` file from Moodle or by clicking on the link in the exercise sheet. This file, which contains the text from `The Lord of the Rings`, will be used to train our LMs in this exercise. Upload this file to this Google Colab / Kaggle instance or alternatively to your Google Drive if you decide to mount your personal Drive.\n",
        "* **1 - Tokenization**: After the training text is ready, we have to think about how we want to tokenize it before training our model. As an initial approach to this, a `CharTokenizer` class is already provided, which implements a naive character-level tokenization method. Based on that, your task is to implement a data-driven `SubwordTokenizer` and accelerate it with a prefix tree data structure.\n",
        "* **2 -  Model Architecture**: In the second coding task, you will complete the already provided Transformer model definition.\n",
        "* **3 - Position Embeddings**: The provided model architecture does not include any sort of position embeddings. It's part of this exercise to implement a well-known type of positional embeddings.\n",
        "* **4 - Training and Evaluation**: After all the steps above, you will now be able to finally train your model(s)."
      ]
    },
    {
      "cell_type": "markdown",
      "metadata": {
        "id": "MeWjoC2-kjLD"
      },
      "source": [
        "### ⚠️ **Note**: You do not need GPU acceleration until Task 4\n",
        "You can safely do the first three exercises without any GPU attached to your runtime."
      ]
    },
    {
      "cell_type": "code",
      "execution_count": null,
      "metadata": {
        "id": "bMTLLRYwjNwM"
      },
      "outputs": [],
      "source": [
        "# Some necessary imports\n",
        "import torch\n",
        "import torch.nn as nn\n",
        "import torch.optim as optim\n",
        "\n",
        "import math\n",
        "import random\n",
        "import os\n",
        "import json\n",
        "\n",
        "import matplotlib.pyplot as plt\n",
        "import numpy as np\n",
        "\n",
        "from tqdm import tqdm\n",
        "from dataclasses import dataclass"
      ]
    },
    {
      "cell_type": "code",
      "execution_count": null,
      "metadata": {
        "colab": {
          "base_uri": "https://localhost:8080/",
          "height": 365
        },
        "id": "E11XkUH6k-fq",
        "outputId": "9775236d-3c70-4c13-db8a-921d0b495621"
      },
      "outputs": [
        {
          "output_type": "error",
          "ename": "MessageError",
          "evalue": "Error: credential propagation was unsuccessful",
          "traceback": [
            "\u001b[0;31m---------------------------------------------------------------------------\u001b[0m",
            "\u001b[0;31mMessageError\u001b[0m                              Traceback (most recent call last)",
            "\u001b[0;32m<ipython-input-2-1cf323920c31>\u001b[0m in \u001b[0;36m<cell line: 0>\u001b[0;34m()\u001b[0m\n\u001b[1;32m      4\u001b[0m \u001b[0;31m# Optional:\u001b[0m\u001b[0;34m\u001b[0m\u001b[0;34m\u001b[0m\u001b[0m\n\u001b[1;32m      5\u001b[0m \u001b[0;32mfrom\u001b[0m \u001b[0mgoogle\u001b[0m\u001b[0;34m.\u001b[0m\u001b[0mcolab\u001b[0m \u001b[0;32mimport\u001b[0m \u001b[0mdrive\u001b[0m\u001b[0;34m\u001b[0m\u001b[0;34m\u001b[0m\u001b[0m\n\u001b[0;32m----> 6\u001b[0;31m \u001b[0mdrive\u001b[0m\u001b[0;34m.\u001b[0m\u001b[0mmount\u001b[0m\u001b[0;34m(\u001b[0m\u001b[0;34m'/content/mydrive'\u001b[0m\u001b[0;34m)\u001b[0m\u001b[0;34m\u001b[0m\u001b[0;34m\u001b[0m\u001b[0m\n\u001b[0m\u001b[1;32m      7\u001b[0m \u001b[0mdata_path\u001b[0m \u001b[0;34m=\u001b[0m \u001b[0;34m'/content/mydrive/MyDrive/lotr.txt'\u001b[0m\u001b[0;34m\u001b[0m\u001b[0;34m\u001b[0m\u001b[0m\n\u001b[1;32m      8\u001b[0m \u001b[0;34m\u001b[0m\u001b[0m\n",
            "\u001b[0;32m/usr/local/lib/python3.11/dist-packages/google/colab/drive.py\u001b[0m in \u001b[0;36mmount\u001b[0;34m(mountpoint, force_remount, timeout_ms, readonly)\u001b[0m\n\u001b[1;32m     98\u001b[0m \u001b[0;32mdef\u001b[0m \u001b[0mmount\u001b[0m\u001b[0;34m(\u001b[0m\u001b[0mmountpoint\u001b[0m\u001b[0;34m,\u001b[0m \u001b[0mforce_remount\u001b[0m\u001b[0;34m=\u001b[0m\u001b[0;32mFalse\u001b[0m\u001b[0;34m,\u001b[0m \u001b[0mtimeout_ms\u001b[0m\u001b[0;34m=\u001b[0m\u001b[0;36m120000\u001b[0m\u001b[0;34m,\u001b[0m \u001b[0mreadonly\u001b[0m\u001b[0;34m=\u001b[0m\u001b[0;32mFalse\u001b[0m\u001b[0;34m)\u001b[0m\u001b[0;34m:\u001b[0m\u001b[0;34m\u001b[0m\u001b[0;34m\u001b[0m\u001b[0m\n\u001b[1;32m     99\u001b[0m   \u001b[0;34m\"\"\"Mount your Google Drive at the specified mountpoint path.\"\"\"\u001b[0m\u001b[0;34m\u001b[0m\u001b[0;34m\u001b[0m\u001b[0m\n\u001b[0;32m--> 100\u001b[0;31m   return _mount(\n\u001b[0m\u001b[1;32m    101\u001b[0m       \u001b[0mmountpoint\u001b[0m\u001b[0;34m,\u001b[0m\u001b[0;34m\u001b[0m\u001b[0;34m\u001b[0m\u001b[0m\n\u001b[1;32m    102\u001b[0m       \u001b[0mforce_remount\u001b[0m\u001b[0;34m=\u001b[0m\u001b[0mforce_remount\u001b[0m\u001b[0;34m,\u001b[0m\u001b[0;34m\u001b[0m\u001b[0;34m\u001b[0m\u001b[0m\n",
            "\u001b[0;32m/usr/local/lib/python3.11/dist-packages/google/colab/drive.py\u001b[0m in \u001b[0;36m_mount\u001b[0;34m(mountpoint, force_remount, timeout_ms, ephemeral, readonly)\u001b[0m\n\u001b[1;32m    135\u001b[0m   )\n\u001b[1;32m    136\u001b[0m   \u001b[0;32mif\u001b[0m \u001b[0mephemeral\u001b[0m\u001b[0;34m:\u001b[0m\u001b[0;34m\u001b[0m\u001b[0;34m\u001b[0m\u001b[0m\n\u001b[0;32m--> 137\u001b[0;31m     _message.blocking_request(\n\u001b[0m\u001b[1;32m    138\u001b[0m         \u001b[0;34m'request_auth'\u001b[0m\u001b[0;34m,\u001b[0m\u001b[0;34m\u001b[0m\u001b[0;34m\u001b[0m\u001b[0m\n\u001b[1;32m    139\u001b[0m         \u001b[0mrequest\u001b[0m\u001b[0;34m=\u001b[0m\u001b[0;34m{\u001b[0m\u001b[0;34m'authType'\u001b[0m\u001b[0;34m:\u001b[0m \u001b[0;34m'dfs_ephemeral'\u001b[0m\u001b[0;34m}\u001b[0m\u001b[0;34m,\u001b[0m\u001b[0;34m\u001b[0m\u001b[0;34m\u001b[0m\u001b[0m\n",
            "\u001b[0;32m/usr/local/lib/python3.11/dist-packages/google/colab/_message.py\u001b[0m in \u001b[0;36mblocking_request\u001b[0;34m(request_type, request, timeout_sec, parent)\u001b[0m\n\u001b[1;32m    174\u001b[0m       \u001b[0mrequest_type\u001b[0m\u001b[0;34m,\u001b[0m \u001b[0mrequest\u001b[0m\u001b[0;34m,\u001b[0m \u001b[0mparent\u001b[0m\u001b[0;34m=\u001b[0m\u001b[0mparent\u001b[0m\u001b[0;34m,\u001b[0m \u001b[0mexpect_reply\u001b[0m\u001b[0;34m=\u001b[0m\u001b[0;32mTrue\u001b[0m\u001b[0;34m\u001b[0m\u001b[0;34m\u001b[0m\u001b[0m\n\u001b[1;32m    175\u001b[0m   )\n\u001b[0;32m--> 176\u001b[0;31m   \u001b[0;32mreturn\u001b[0m \u001b[0mread_reply_from_input\u001b[0m\u001b[0;34m(\u001b[0m\u001b[0mrequest_id\u001b[0m\u001b[0;34m,\u001b[0m \u001b[0mtimeout_sec\u001b[0m\u001b[0;34m)\u001b[0m\u001b[0;34m\u001b[0m\u001b[0;34m\u001b[0m\u001b[0m\n\u001b[0m",
            "\u001b[0;32m/usr/local/lib/python3.11/dist-packages/google/colab/_message.py\u001b[0m in \u001b[0;36mread_reply_from_input\u001b[0;34m(message_id, timeout_sec)\u001b[0m\n\u001b[1;32m    101\u001b[0m     ):\n\u001b[1;32m    102\u001b[0m       \u001b[0;32mif\u001b[0m \u001b[0;34m'error'\u001b[0m \u001b[0;32min\u001b[0m \u001b[0mreply\u001b[0m\u001b[0;34m:\u001b[0m\u001b[0;34m\u001b[0m\u001b[0;34m\u001b[0m\u001b[0m\n\u001b[0;32m--> 103\u001b[0;31m         \u001b[0;32mraise\u001b[0m \u001b[0mMessageError\u001b[0m\u001b[0;34m(\u001b[0m\u001b[0mreply\u001b[0m\u001b[0;34m[\u001b[0m\u001b[0;34m'error'\u001b[0m\u001b[0;34m]\u001b[0m\u001b[0;34m)\u001b[0m\u001b[0;34m\u001b[0m\u001b[0;34m\u001b[0m\u001b[0m\n\u001b[0m\u001b[1;32m    104\u001b[0m       \u001b[0;32mreturn\u001b[0m \u001b[0mreply\u001b[0m\u001b[0;34m.\u001b[0m\u001b[0mget\u001b[0m\u001b[0;34m(\u001b[0m\u001b[0;34m'data'\u001b[0m\u001b[0;34m,\u001b[0m \u001b[0;32mNone\u001b[0m\u001b[0;34m)\u001b[0m\u001b[0;34m\u001b[0m\u001b[0;34m\u001b[0m\u001b[0m\n\u001b[1;32m    105\u001b[0m \u001b[0;34m\u001b[0m\u001b[0m\n",
            "\u001b[0;31mMessageError\u001b[0m: Error: credential propagation was unsuccessful"
          ]
        }
      ],
      "source": [
        "# Specify the path to your training text\n",
        "data_path = 'lotr.txt'\n",
        "\n",
        "# Optional:\n",
        "from google.colab import drive\n",
        "drive.mount('/content/mydrive')\n",
        "data_path = '/content/mydrive/MyDrive/lotr.txt'\n",
        "\n",
        "# Load the training data\n",
        "with open(data_path, 'r', encoding='latin-1') as f:\n",
        "    lotr_text = f.read()\n",
        "\n",
        "print(f\"Dataset length: {len(lotr_text)} characters\")\n",
        "print(f\"Sample:\\n{lotr_text[:2000]}\")"
      ]
    },
    {
      "cell_type": "markdown",
      "metadata": {
        "id": "WOKGnjq4lP7w"
      },
      "source": [
        "## 1 - Tokenization\n",
        "The following `CharTokenizer` class implements the provided abstract (data-driven) Tokenizer interface. It is provided to you as a simple character-level tokenisation approach. It treats every character that occurs in the data as it's own token."
      ]
    },
    {
      "cell_type": "code",
      "execution_count": null,
      "metadata": {
        "id": "EoGd1EOAlK05"
      },
      "outputs": [],
      "source": [
        "# Tokenizer Interface\n",
        "class Tokenizer:\n",
        "\n",
        "    def __init__(self, text, vocab_size=None):\n",
        "        self.train(text, vocab_size)\n",
        "\n",
        "    def train(self, text):\n",
        "        raise NotImplementedError\n",
        "\n",
        "    def encode(self, s):\n",
        "        raise NotImplementedError\n",
        "\n",
        "    def decode(self, tokens):\n",
        "        raise NotImplementedError\n",
        "\n",
        "\n",
        "# Character-level Tokenizer\n",
        "class CharTokenizer(Tokenizer):\n",
        "    def __init__(self, text):\n",
        "        super(CharTokenizer, self).__init__(text)\n",
        "\n",
        "    def train(self, text, vocab_size):\n",
        "        # Build vocab from sorted unique characters\n",
        "        self.vocab = sorted(list(set(text)))\n",
        "        self.token_to_id = {ch: i for i, ch in enumerate(self.vocab)}\n",
        "        self.id_to_token = {i: ch for ch, i in self.token_to_id.items()}\n",
        "\n",
        "    def encode(self, s):\n",
        "        \"\"\"Encode a string to a list of token indices\"\"\"\n",
        "        return [self.token_to_id[c] for c in s]\n",
        "\n",
        "    def decode(self, tokens):\n",
        "        \"\"\"Decode a list of token indices back to a string\"\"\"\n",
        "        return ''.join([self.id_to_token[i] for i in tokens])\n",
        "\n",
        "\n"
      ]
    },
    {
      "cell_type": "code",
      "execution_count": null,
      "metadata": {
        "id": "MrxEMJuS1G88"
      },
      "outputs": [],
      "source": [
        "# Instantiate tokenizer and process data\n",
        "tokenizer = CharTokenizer(lotr_text)\n",
        "data = torch.tensor(tokenizer.encode(lotr_text), dtype=torch.long)\n",
        "\n",
        "print(f\"Vocab size: {len(tokenizer.vocab)}\")\n",
        "print(f\"Vocab elements: {tokenizer.vocab}\")\n",
        "print(f\"Sample tokenization: 'Gandalf runs' -> {tokenizer.encode('Gandalf runs')}\")\n",
        "print(f\"Decoded back: {tokenizer.decode(tokenizer.encode('Gandalf runs'))}\")"
      ]
    },
    {
      "cell_type": "markdown",
      "metadata": {
        "id": "75nUYdZglksh"
      },
      "source": [
        "### a) 💻 Implement Subword Frequency Tokenization\n",
        "The `SubwordTokenizer` class shall do the following during training:\n",
        "\n",
        "\n",
        "1.   Start with a vocabulary $V$ that contains only all occurring characters.\n",
        "2.   Then repeat until `len(vocab)` is equal to the wanted `vocab_size`:\n",
        "\n",
        "*   Compute frequencies of token pairs in the text\n",
        "*   Take most frequent pair of tokens\n",
        "*   Merge them into a new token and update the vocabulary\n",
        "\n",
        "For encoding, it shall greedily take the longest matching token from the vocabulary as the next token in the encoded sequence. You are supposed to build a simple prefix tree after training to accelerate this search for the longest matching prefix token. This will modify the inner logic of your encode(...) method but significantly improve its performance. You may use the `pygtrie` package to implement the data structure. (`pip install pygtrie`)"
      ]
    },
    {
      "cell_type": "code",
      "execution_count": null,
      "metadata": {
        "collapsed": true,
        "id": "cpApHCTvmFMi"
      },
      "outputs": [],
      "source": [
        "# Install the pygtrie package for the Prefix Trie data structure\n",
        "!pip install pygtrie"
      ]
    },
    {
      "cell_type": "code",
      "execution_count": null,
      "metadata": {
        "id": "trW5Ni_qmWG6"
      },
      "outputs": [],
      "source": [
        "import pygtrie\n",
        "from collections import Counter\n",
        "\n",
        "# ================ STUDENT PART (START) ==================================\n",
        "\n",
        "class SubwordTokenizer(Tokenizer):\n",
        "\n",
        "    def __init__(self, text, vocab_size=1000):\n",
        "        self.pf_tree = None\n",
        "        super(SubwordTokenizer, self).__init__(text, vocab_size)\n",
        "\n",
        "\n",
        "    def train(self, text, vocab_size):\n",
        "        self.vocab = sorted(list(set(text)))\n",
        "        self.vocab.append('<unk>')\n",
        "        tokens = list(text)\n",
        "\n",
        "        while len(self.vocab) < vocab_size:\n",
        "            pair_ctr = Counter()\n",
        "            for i in range(len(tokens) - 1):\n",
        "              pair = (tokens[i], tokens[i+1])\n",
        "              pair_ctr[pair] = pair_ctr[pair] + 1\n",
        "\n",
        "            if not pair_ctr:\n",
        "              break\n",
        "\n",
        "            most_common_pair = pair_ctr.most_common(1)[0][0]\n",
        "            joint_token = ''.join(most_common_pair)\n",
        "            #print(f\"Most common pair int text: {most_common_pair}\")\n",
        "\n",
        "            new_tokens = []\n",
        "            i = 0\n",
        "            while i < len(tokens):\n",
        "              #print(f\"tokens[{i}]: {tokens[i]}\")\n",
        "\n",
        "              if (i < len(tokens) - 1) and ((tokens[i], tokens[i+1]) == most_common_pair):\n",
        "                new_tokens.append(joint_token)\n",
        "                i = i + 2\n",
        "              else:\n",
        "                new_tokens.append(tokens[i])\n",
        "                i = i + 1\n",
        "\n",
        "            tokens = new_tokens\n",
        "            self.vocab.append(joint_token)\n",
        "\n",
        "        print(\"Done with training, initializing prefix tree\")\n",
        "\n",
        "\n",
        "        self.token_to_id = {token: i for i, token in enumerate(self.vocab)}\n",
        "        self.id_to_token = {i: token for token, i in self.token_to_id.items()}\n",
        "\n",
        "        self.pf_tree = pygtrie.Trie()\n",
        "\n",
        "        for token in self.vocab:\n",
        "          self.pf_tree[token] = self.token_to_id[token]\n",
        "\n",
        "\n",
        "\n",
        "    def encode(self, s):\n",
        "        \"\"\"Encode a string to a list of token indices\"\"\"\n",
        "        if (not hasattr(self, 'pf_tree')) or (not self.pf_tree):\n",
        "          raise ValueError(\"Trie is none, Tokenizer likely has to be trained first\")\n",
        "\n",
        "        tokens = []\n",
        "        i = 0\n",
        "        while i < len(s):\n",
        "\n",
        "          match_string, handler = self.pf_tree.longest_prefix(s[i:])\n",
        "\n",
        "          if match_string:\n",
        "            tokens.append(handler)\n",
        "            i = i + len(match_string)\n",
        "          else:\n",
        "            if '<unk>' in self.token_to_id:\n",
        "              tokens.append(self.token_to_id['<unk>'])\n",
        "            else:\n",
        "              print(\"Warning: <unk> token not found in vocab...skipping character\")\n",
        "            i = i + 1\n",
        "\n",
        "        return tokens\n",
        "\n",
        "\n",
        "    def decode(self, tokens):\n",
        "        \"\"\"Decode a list of token indices back to a string\"\"\"\n",
        "        return ''.join([self.id_to_token[i] for i in tokens])\n",
        "\n",
        "\n",
        "# ================ STUDENT PART (END) ==================================\n"
      ]
    },
    {
      "cell_type": "code",
      "execution_count": null,
      "metadata": {
        "id": "IfFnDEdB1fwy"
      },
      "outputs": [],
      "source": [
        "# Instantiate tokenizer and process data\n",
        "tokenizer = SubwordTokenizer(lotr_text, vocab_size=1000)\n",
        "data = torch.tensor(tokenizer.encode(lotr_text), dtype=torch.long)\n",
        "\n",
        "print(f\"Vocab size: {len(tokenizer.vocab)}\")\n",
        "print(f\"Vocab elements: {tokenizer.vocab}\")\n",
        "print(f\"Sample tokenization: 'Gandalf runs' -> {tokenizer.encode('Gandalf runs')}\")\n",
        "print(f\"Decoded back: {tokenizer.decode(tokenizer.encode('Gandalf runs'))}\")"
      ]
    },
    {
      "cell_type": "markdown",
      "metadata": {
        "id": "pcdlJX4Wmvn8"
      },
      "source": [
        "Next, we provide a PyTorch dataset class that holds the tokenized input and output sequences for us. Make sure to understand what it is doing before moving on."
      ]
    },
    {
      "cell_type": "code",
      "execution_count": null,
      "metadata": {
        "id": "njq8t9yEmpMG"
      },
      "outputs": [],
      "source": [
        "from torch.utils.data import Dataset, DataLoader\n",
        "\n",
        "class TextTokenDataset(Dataset):\n",
        "    def __init__(self, encoded_text, seq_length):\n",
        "        self.data = encoded_text\n",
        "        self.seq_length = seq_length\n",
        "\n",
        "    def __len__(self):\n",
        "        return len(self.data) - self.seq_length  # Total possible sequences\n",
        "\n",
        "    def __getitem__(self, idx):\n",
        "        input_sequence = self.data[idx: idx + self.seq_length]  # input sequence of tokens\n",
        "        target_sequence = self.data[idx + 1: idx + self.seq_length + 1]  # target sequence (shifted by 1)\n",
        "\n",
        "        return torch.tensor(input_sequence), torch.tensor(target_sequence)"
      ]
    },
    {
      "cell_type": "markdown",
      "metadata": {
        "id": "0xTVbF-YnJ8g"
      },
      "source": [
        "## 2 - Model Architecture\n",
        "Below you can find an almost complete PyTorch model that we will use as our LM. It consists of `TransformerBlock` modules."
      ]
    },
    {
      "cell_type": "markdown",
      "metadata": {
        "id": "dbPqqCh5nNXf"
      },
      "source": [
        "\n",
        "### a) 💻 Complete the TransformerBlock class\n",
        "The `TransformerBlock` class is currently incomplete; it is your task to implement its `forward` method. Make sure that you create and apply a causal mask for the attention mechanism."
      ]
    },
    {
      "cell_type": "code",
      "execution_count": null,
      "metadata": {
        "id": "8t4e9_ySnKQY"
      },
      "outputs": [],
      "source": [
        "class TransformerBlock(nn.Module):\n",
        "\n",
        "    def __init__(self, embed_dim, num_heads):\n",
        "        super(TransformerBlock, self).__init__()\n",
        "\n",
        "        self.embed_dim = embed_dim\n",
        "        self.num_heads = num_heads\n",
        "\n",
        "        # Multi-head attention layer\n",
        "        self.attn = nn.MultiheadAttention(embed_dim, num_heads, batch_first=True)\n",
        "\n",
        "        # Feedforward layers\n",
        "        self.ffn = nn.Sequential(\n",
        "            nn.Linear(embed_dim, embed_dim),\n",
        "            nn.ReLU(),\n",
        "            nn.Linear(embed_dim, embed_dim)\n",
        "        )\n",
        "\n",
        "        # Normalization\n",
        "        self.norm1 = nn.LayerNorm(embed_dim)\n",
        "        self.norm2 = nn.LayerNorm(embed_dim)\n",
        "\n",
        "\n",
        "    def forward(self, x, is_training=True):\n",
        "\n",
        "        batch_size, seq_len, _ = x.size()\n",
        "\n",
        "        # ============== STUDENT PART (START) ==================================\n",
        "        attn_mask = torch.triu(torch.ones(seq_len, seq_len) * float('-inf'),diagonal=1).to(x.device)\n",
        "\n",
        "        attn_output, _ = self.attn(query=x , key=x, value=x, attn_mask=attn_mask, is_causal=True)\n",
        "\n",
        "        x = x + attn_output\n",
        "        x = self.norm1(x)\n",
        "\n",
        "        # ffn_output = self.ffn(x)\n",
        "        x = x + self.ffn(x)\n",
        "        x = self.norm2(x)\n",
        "        # ================ STUDENT PART (END) ==================================\n",
        "\n",
        "        return x"
      ]
    },
    {
      "cell_type": "markdown",
      "metadata": {
        "id": "e2PZNPDgnSar"
      },
      "source": [
        "### b) 💻 Complete the TransformerModel class\n",
        "After that, complete the `forward` method of the `TransformerModel` class as well. This method combines the (optional) positional embedding, which we will implement later, and the token embeddings by an element-wise sum before passing them through the blocks and final layer."
      ]
    },
    {
      "cell_type": "code",
      "execution_count": null,
      "metadata": {
        "id": "Lqpx2jpGnRqZ"
      },
      "outputs": [],
      "source": [
        "class TransformerModel(nn.Module):\n",
        "\n",
        "    def __init__(self, vocab_size, embed_dim=128, num_heads=4, n_blocks=2, context_length=128, pos_emb_class=None):\n",
        "\n",
        "        super(TransformerModel, self).__init__()\n",
        "        self.embed_dim = embed_dim\n",
        "        self.token_embed = nn.Embedding(vocab_size, embed_dim)\n",
        "\n",
        "        if pos_emb_class is not None:\n",
        "            self.pos_emb = pos_emb_class(embed_dim, max_len=context_length).cuda()\n",
        "        else:\n",
        "            self.pos_emb = None\n",
        "\n",
        "        self.blocks = nn.ModuleList([TransformerBlock(embed_dim, num_heads) for _ in range(n_blocks)])\n",
        "        self.lm_head = nn.Linear(embed_dim, vocab_size)\n",
        "\n",
        "    def forward(self, idx, is_training=True):\n",
        "\n",
        "        # ============== STUDENT PART (START) ==================================\n",
        "        token_emb = self.token_embed(idx)\n",
        "\n",
        "        if self.pos_emb is not None:\n",
        "          x = token_emb + self.pos_emb(token_emb)\n",
        "\n",
        "        else:\n",
        "          x = token_emb\n",
        "\n",
        "        for block in self.blocks:\n",
        "          x = block(x)\n",
        "\n",
        "        logits = self.lm_head(x)\n",
        "\n",
        "        # ================ STUDENT PART (END) ==================================\n",
        "\n",
        "        return logits"
      ]
    },
    {
      "cell_type": "markdown",
      "metadata": {
        "id": "Tra1kGzHnf1j"
      },
      "source": [
        "## 3 - Position Embeddings\n",
        "Transformers don't have any built-in notion of sequence order like RNNs or CNNs. To help the model understand the order of tokens in a sequence, we add position embeddings to the token embeddings. These tell the model where in the sequence each token is."
      ]
    },
    {
      "cell_type": "markdown",
      "metadata": {
        "id": "d5hgFIOTnjAY"
      },
      "source": [
        "### a) 💻 Implement a PositionEmbeddings class\n",
        "Implement the `SinusoidalPositionEmbeddings` class, which is the type of positional encoding used and described in [Attention is All You Need](https://arxiv.org/abs/1706.03762) (Vaswani et al. 2017).\n",
        "\n",
        "The final output of this PyTorch module for an input of `x.shape = (batch_size, seq_len, _)` should be of shape `(1, seq_len, embed_dim)`."
      ]
    },
    {
      "cell_type": "code",
      "execution_count": null,
      "metadata": {
        "id": "Rt9bT2T9ngs0"
      },
      "outputs": [],
      "source": [
        "class SinusoidalPositionEmbeddings(nn.Module):\n",
        "\n",
        "    def __init__(self, embed_dim, max_len=512):\n",
        "        super(SinusoidalPositionEmbeddings, self).__init__()\n",
        "        self.embed_dim = embed_dim\n",
        "        self.max_len = max_len\n",
        "\n",
        "    def forward(self, x):\n",
        "        # ============== STUDENT PART (START) ==================================\n",
        "        _, seq_len, _ = x.shape\n",
        "        position = torch.arange(seq_len)[:, None]\n",
        "        dimensions = torch.arange(self.embed_dim)[None, :]\n",
        "\n",
        "        anglre_rads = 1 / np.power(10000, ((dimensions // 2)) / self.embed_dim)\n",
        "        angle_rates = position * anglre_rads\n",
        "\n",
        "        pe = torch.zeros(seq_len, self.embed_dim, device=x.device)\n",
        "        pe[:, 0::2] = np.sin(angle_rates[:, 0 ::2])\n",
        "        pe[:, 1::2] = np.cos(angle_rates[:, 1 ::2])\n",
        "\n",
        "        pe = pe[None, :,:]\n",
        "\n",
        "        assert pe.shape == (1, seq_len, self.embed_dim)\n",
        "\n",
        "        return pe\n",
        "        # ================ STUDENT PART (END) ==================================\n",
        "\n",
        "\n"
      ]
    },
    {
      "cell_type": "markdown",
      "metadata": {
        "id": "wAMo3IP0qqwn"
      },
      "source": [
        "### c) 💻 Implement a helpful visualisation of your\n",
        "\n",
        "---\n",
        "\n",
        "implemented positional embeddings.\n",
        "Be creative and include the result together with an explanation in your report."
      ]
    },
    {
      "cell_type": "code",
      "execution_count": null,
      "metadata": {
        "id": "JIguJVmWXxpD"
      },
      "outputs": [],
      "source": [
        "seq_len     = 100\n",
        "embed_dim   = 128\n",
        "\n",
        "pos_emb = SinusoidalPositionEmbeddings(embed_dim, seq_len)\n",
        "\n",
        "x = torch.zeros((1, seq_len, embed_dim))\n",
        "x = pos_emb.forward(x)\n",
        "\n",
        "print(x.cpu().size())\n",
        "plt.figure(figsize=(10,6))\n",
        "plt.imshow(x[0].cpu(), aspect=\"auto\")\n",
        "plt.colorbar()\n",
        "plt.title(\"{0}-Dimensional Sinusoidal Positional Embedding\".format(embed_dim))\n",
        "plt.xlabel(\"Embedding Dimension: {0}\".format(embed_dim))\n",
        "plt.ylabel(\"Sequence Length: {0}\".format(seq_len))\n",
        "plt.show()"
      ]
    },
    {
      "cell_type": "markdown",
      "metadata": {
        "id": "p9mstF6Z_sXo"
      },
      "source": [
        "### ⚠️ **Note**: You should now restart your runtime with GPU access."
      ]
    },
    {
      "cell_type": "markdown",
      "metadata": {
        "id": "5WI2ynsJn0zO"
      },
      "source": [
        "## 4 - Training and Evaluation\n",
        "Now it is finally time to train and also evaluate your language model. The training and sampling functions are already provided:"
      ]
    },
    {
      "cell_type": "code",
      "execution_count": null,
      "metadata": {
        "id": "kPo0THhlnmue"
      },
      "outputs": [],
      "source": [
        "def train(model, train_loader, optimizer, criterion, tokenizer, context_length, num_epochs=5):\n",
        "    n_batches_between_validation = 100\n",
        "\n",
        "    for epoch in range(num_epochs):\n",
        "        model.train()\n",
        "        running_loss = 0.0\n",
        "        loop = tqdm(train_loader, desc=f\"Epoch {epoch+1}/{num_epochs}\", ncols=100)\n",
        "\n",
        "        for batch_idx, (input_seq, target_seq) in enumerate(loop):\n",
        "            input_seq, target_seq = input_seq.cuda(), target_seq.cuda()\n",
        "\n",
        "            optimizer.zero_grad()\n",
        "\n",
        "            # Forward pass\n",
        "            logits = model(input_seq)\n",
        "\n",
        "            # Flatten logits and target sequences for loss computation\n",
        "            logits = logits.view(-1, logits.size(-1))  # Reshape for loss\n",
        "            target_seq = target_seq.view(-1)  # Flatten the target sequence\n",
        "\n",
        "            # Compute the loss\n",
        "            loss = criterion(logits, target_seq)\n",
        "            loss.backward()\n",
        "\n",
        "            # Update weights\n",
        "            optimizer.step()\n",
        "\n",
        "            running_loss += loss.item()\n",
        "\n",
        "            # Update the progress bar with the loss\n",
        "            loop.set_postfix(loss=running_loss / (batch_idx + 1))\n",
        "\n",
        "            if batch_idx % n_batches_between_validation == 0:\n",
        "                model.eval()\n",
        "                prompt = \"\"\"Gandalf \"\"\"\n",
        "                generated_tokens = generate(model, prompt, tokenizer, max_len=context_length)\n",
        "                model.train()\n",
        "                print(\" -> \" + tokenizer.decode(generated_tokens[0].tolist()))"
      ]
    },
    {
      "cell_type": "code",
      "execution_count": null,
      "metadata": {
        "id": "V5rV6r5BoJU6"
      },
      "outputs": [],
      "source": [
        "def generate(model, prompt, tokenizer, max_len=128, temperature=1.0):\n",
        "    model.eval()  # Set model to evaluation mode\n",
        "    prompt_tokens = torch.tensor(tokenizer.encode(prompt), dtype=torch.long).unsqueeze(0).cuda()\n",
        "    generated = prompt_tokens\n",
        "\n",
        "    for _ in range(max_len - prompt_tokens.shape[1]):\n",
        "        # Feed the current sequence into the model\n",
        "        logits = model(generated, is_training=False)\n",
        "\n",
        "        # Only get the logits for the last token (the token being predicted)\n",
        "        logits = logits[:, -1, :]\n",
        "\n",
        "        # Apply temperature (optional, can control randomness of predictions)\n",
        "        logits = logits / temperature\n",
        "\n",
        "        # Sample from the probability distribution\n",
        "        probs = torch.nn.functional.softmax(logits, dim=-1)\n",
        "        next_token = torch.multinomial(probs, 1)  # Sample from the distribution\n",
        "\n",
        "        # Append the generated token to the sequence\n",
        "        generated = torch.cat([generated, next_token], dim=1)\n",
        "\n",
        "    return generated"
      ]
    },
    {
      "cell_type": "markdown",
      "metadata": {
        "id": "qq85Knw0oQ58"
      },
      "source": [
        "### 💻 a) Train your tokenizers and inspect their learned vocabularies"
      ]
    },
    {
      "cell_type": "code",
      "execution_count": null,
      "metadata": {
        "id": "DBHwpPCvoQeX"
      },
      "outputs": [],
      "source": [
        "# ============== STUDENT PART (START) ==================================\n",
        "\n",
        "char_tokenizer = CharTokenizer(lotr_text)\n",
        "\n",
        "subword_tokenizer = SubwordTokenizer(lotr_text, vocab_size=1000)\n",
        "\n",
        "# ================ STUDENT PART (END) =================================="
      ]
    },
    {
      "cell_type": "code",
      "execution_count": null,
      "metadata": {
        "id": "qgZuIjSn4yuZ"
      },
      "outputs": [],
      "source": [
        "def find_longest_token_idx(vocab) -> int:\n",
        "  \"\"\"\n",
        "  Given a vocab we return the longest tokens index\n",
        "  \"\"\"\n",
        "  longest_idx = 0\n",
        "  i = 0\n",
        "  for v in vocab:\n",
        "    if len(v) > len(vocab[longest_idx]):\n",
        "      longest_idx = i\n",
        "\n",
        "    i = i + 1\n",
        "\n",
        "  return longest_idx"
      ]
    },
    {
      "cell_type": "code",
      "execution_count": null,
      "metadata": {
        "id": "2xGUm9Z1oW8y"
      },
      "outputs": [],
      "source": [
        "# ============== STUDENT PART (START) ==================================\n",
        "\n",
        "# Tokenizer inspection here\n",
        "\n",
        "# Instantiate tokenizer and process data\n",
        "\n",
        "print(\"--Char tokenizer\")\n",
        "print(f\"Vocab size: {len(char_tokenizer.vocab)}\")\n",
        "print(f\"Vocab elements: {char_tokenizer.vocab}\")\n",
        "print(f\"Sample tokenization: 'Gandalf runs' -> {char_tokenizer.encode('Gandalf runs')}\")\n",
        "print(f\"Decoded back: {char_tokenizer.decode(char_tokenizer.encode('Gandalf runs'))}\")\n",
        "\n",
        "print(\"--------------------------------------------------------------------------------------------------------------\")\n",
        "\n",
        "print(\"--Subword Tokenizer\")\n",
        "print(f\"Vocab size: {len(subword_tokenizer.vocab)}\")\n",
        "print(f\"Vocab elements: {subword_tokenizer.vocab}\")\n",
        "print(f\"Sample tokenization: 'Gandalf runs' -> {subword_tokenizer.encode('Gandalf runs')}\")\n",
        "print(f\"Decoded back: {subword_tokenizer.decode(subword_tokenizer.encode('Gandalf runs'))}\")\n",
        "\n",
        "\n",
        "token_ids = subword_tokenizer.encode(lotr_text)\n",
        "\n",
        "token_counts = Counter(token_ids)\n",
        "\n",
        "token_info = [\n",
        "    {\n",
        "        \"id\": token_id,\n",
        "        \"token\": subword_tokenizer.id_to_token[token_id],\n",
        "        \"count\": token_counts[token_id],\n",
        "        \"length\": len(subword_tokenizer.id_to_token[token_id])\n",
        "    }\n",
        "    for token_id in token_counts\n",
        "]\n",
        "\n",
        "most_frequent = sorted(token_info, key=lambda x: -x[\"count\"])[:5]\n",
        "least_frequent = sorted(token_info, key=lambda x: x[\"count\"])[:5]\n",
        "longest_tokens = sorted(token_info, key=lambda x: -x[\"length\"])[:5]\n",
        "\n",
        "print(\"Most frequent tokens:\")\n",
        "for t in most_frequent:\n",
        "    print(f\"{t['token']} (ID {t['id']}): used {t['count']} times\")\n",
        "\n",
        "print(\"\\nLeast frequent tokens:\")\n",
        "for t in least_frequent:\n",
        "    print(f\"{t['token']} (ID {t['id']}): used {t['count']} time(s)\")\n",
        "\n",
        "print(\"\\nLongest tokens:\")\n",
        "for t in longest_tokens:\n",
        "    print(f\"{t['token']} (ID {t['id']}): length {t['length']}\")\n",
        "\n",
        "# ================ STUDENT PART (END) =================================="
      ]
    },
    {
      "cell_type": "markdown",
      "metadata": {
        "id": "EnRpuXpnokHv"
      },
      "source": [
        "### Provided default configuration"
      ]
    },
    {
      "cell_type": "code",
      "execution_count": null,
      "metadata": {
        "id": "9mKqcDl_oxwS"
      },
      "outputs": [],
      "source": [
        "@dataclass\n",
        "class DefaultConfig:\n",
        "\n",
        "  context_length: int = 64\n",
        "  embed_dim: int = 64\n",
        "  n_heads: int = 8\n",
        "  n_blocks: int = 4\n",
        "  ffn_dim: int = 512\n",
        "  batch_size: int = 64\n",
        "\n",
        "  n_epochs: int = 1\n",
        "  weight_decay: float = 0.01\n",
        "  learning_rate: float = 0.0005"
      ]
    },
    {
      "cell_type": "code",
      "execution_count": null,
      "metadata": {
        "id": "lyV70vAj3g0I"
      },
      "outputs": [],
      "source": [
        "@dataclass\n",
        "class TokenizerPosEmbConfig(DefaultConfig):\n",
        "  tokenizer: Tokenizer = CharTokenizer\n",
        "  pos_emb: bool = False"
      ]
    },
    {
      "cell_type": "markdown",
      "metadata": {
        "id": "wthyVaPVpp1-"
      },
      "source": [
        "### Provided default setup"
      ]
    },
    {
      "cell_type": "code",
      "execution_count": null,
      "metadata": {
        "id": "kZHGki1zokAt"
      },
      "outputs": [],
      "source": [
        "# Choose your tokenizer\n",
        "tokenizer = subword_tokenizer\n",
        "\n",
        "# Create the configuration\n",
        "config = DefaultConfig()\n",
        "vocab_size = len(tokenizer.vocab)\n",
        "\n",
        "# Encoding the entire text\n",
        "encoded_text = tokenizer.encode(lotr_text)\n",
        "train_dataset = TextTokenDataset(encoded_text, config.context_length)\n",
        "\n",
        "# Create a DataLoader to batch data\n",
        "train_loader = DataLoader(train_dataset, batch_size=config.batch_size, shuffle=True)\n",
        "\n",
        "# Create Model\n",
        "model = TransformerModel(\n",
        "      vocab_size,\n",
        "      config.embed_dim,\n",
        "      num_heads=config.n_heads,\n",
        "      n_blocks=config.n_blocks,\n",
        "      context_length=config.context_length,\n",
        "      pos_emb_class=SinusoidalPositionEmbeddings\n",
        "    ).cuda()\n",
        "\n",
        "# Print model size\n",
        "print(f\"Model size: {sum(p.numel() for p in model.parameters())/1e6:.2f}M parameters\")\n",
        "\n",
        "# Optimizer and Loss function\n",
        "optimizer = optim.AdamW(model.parameters(), lr=config.learning_rate, weight_decay=config.weight_decay)\n",
        "criterion = nn.CrossEntropyLoss()\n",
        "\n",
        "# Train the model\n",
        "train(model, train_loader, optimizer, criterion, tokenizer, config.context_length, num_epochs=config.n_epochs)"
      ]
    },
    {
      "cell_type": "markdown",
      "metadata": {
        "id": "zTHq87iUo9d7"
      },
      "source": [
        "### Evaluation metric: Perplexity"
      ]
    },
    {
      "cell_type": "code",
      "execution_count": null,
      "metadata": {
        "id": "Gjg1zwi_oj9i"
      },
      "outputs": [],
      "source": [
        "def perplexity(model, test_text, tokenizer, context_length, config):\n",
        "    model.eval()\n",
        "    test_encoded = tokenizer.encode(test_text)\n",
        "    test_dataset = TextTokenDataset(test_encoded, context_length)\n",
        "    test_loader = DataLoader(test_dataset, batch_size=config.batch_size, shuffle=False)\n",
        "    total_loss = 0.0\n",
        "    total_tokens = 0\n",
        "    criterion = nn.CrossEntropyLoss()\n",
        "    with torch.no_grad():\n",
        "        for input_seq, target_seq in tqdm(test_loader):\n",
        "            input_seq, target_seq = input_seq.cuda(), target_seq.cuda()\n",
        "\n",
        "            # Forward pass\n",
        "            logits = model(input_seq)\n",
        "            logits = logits.view(-1, logits.size(-1))  # Reshape for loss\n",
        "            target_seq = target_seq.view(-1)  # Flatten the target sequence\n",
        "\n",
        "            # Compute the loss\n",
        "            loss = criterion(logits, target_seq)\n",
        "            total_loss += loss.item()\n",
        "            total_tokens += target_seq.size(0)\n",
        "\n",
        "    avg_loss = total_loss / len(test_loader)\n",
        "    perplexity = math.exp(avg_loss)\n",
        "\n",
        "    return perplexity"
      ]
    },
    {
      "cell_type": "code",
      "execution_count": null,
      "metadata": {
        "id": "lHI-CgPaojgg"
      },
      "outputs": [],
      "source": [
        "value = perplexity(model, lotr_text[:len(lotr_text)//10], tokenizer, config.context_length, config)\n",
        "print(f\"Perplexity: {value:.2f}\")"
      ]
    },
    {
      "cell_type": "markdown",
      "metadata": {
        "id": "jpU9QrdrpVkJ"
      },
      "source": [
        "### 💻 c) Train and evaluate your final models (obtained with the two tokenizers), w/ and /wo the positional embeddings (4 combinations). Stick to the default configuration for now."
      ]
    },
    {
      "cell_type": "code",
      "execution_count": null,
      "metadata": {
        "id": "Kmb6aONV3-Ku"
      },
      "outputs": [],
      "source": [
        "def run_experiment(config: TokenizerPosEmbConfig):\n",
        "  \"\"\"\n",
        "  Run experiment with given tokenizer and wheater we want positinal embedding\n",
        "  \"\"\"\n",
        "  # Choose your tokenizer\n",
        "  tokenizer = config.tokenizer\n",
        "\n",
        "  # Setup SinusoidalPositionEmbeddings\n",
        "  if config.pos_emb:\n",
        "    pos_emb = SinusoidalPositionEmbeddings\n",
        "  else:\n",
        "    pos_emb = None\n",
        "\n",
        "  vocab_size = len(tokenizer.vocab)\n",
        "\n",
        "  # Encoding the entire text\n",
        "  encoded_text = tokenizer.encode(lotr_text)\n",
        "  train_dataset = TextTokenDataset(encoded_text, config.context_length)\n",
        "\n",
        "  # Create a DataLoader to batch data\n",
        "  train_loader = DataLoader(train_dataset, batch_size=config.batch_size, shuffle=True)\n",
        "\n",
        "  # Create Model\n",
        "  model = TransformerModel(\n",
        "      vocab_size,\n",
        "      config.embed_dim,\n",
        "      num_heads=config.n_heads,\n",
        "      n_blocks=config.n_blocks,\n",
        "      context_length=config.context_length,\n",
        "      pos_emb_class=pos_emb\n",
        "    ).cuda()\n",
        "\n",
        "  # Print model size\n",
        "  print(f\"Model size: {sum(p.numel() for p in model.parameters())/1e6:.2f}M parameters\")\n",
        "\n",
        "  # Optimizer and Loss function\n",
        "  optimizer = optim.AdamW(model.parameters(), lr=config.learning_rate, weight_decay=config.weight_decay)\n",
        "  criterion = nn.CrossEntropyLoss()\n",
        "\n",
        "  # Train the model\n",
        "  train(model, train_loader, optimizer, criterion, tokenizer, config.context_length, num_epochs=config.n_epochs)\n",
        "\n",
        "  print(\"Evaluation\")\n",
        "  value = perplexity(model, lotr_text[:len(lotr_text)//10], tokenizer, config.context_length, config)\n",
        "  print(f\"Perplexity: {value:.2f}\")\n",
        "\n",
        "  return model, lotr_text, tokenizer, config.context_length"
      ]
    },
    {
      "cell_type": "code",
      "execution_count": null,
      "metadata": {
        "id": "z9-HpTB4c0WE"
      },
      "outputs": [],
      "source": [
        "# ============== STUDENT PART (START) ==================================\n",
        "# Character Tokenizer\n",
        "# NO Positional Embedding\n",
        "cfg = TokenizerPosEmbConfig(tokenizer=char_tokenizer, pos_emb=False)\n",
        "c_wo_pe, txt, char_tokenizer,  context_len = run_experiment(cfg)\n",
        "value = perplexity(c_wo_pe, lotr_text[:len(lotr_text)], subword_tokenizer, cfg.context_length, cfg)\n"
      ]
    },
    {
      "cell_type": "code",
      "execution_count": null,
      "metadata": {
        "id": "FXqq6pq22PkA"
      },
      "outputs": [],
      "source": [
        "# Test Character and\n",
        "prompt = \"Gandalf\"\n",
        "generated_tokens = generate(c_wo_pe, prompt, char_tokenizer, max_len=context_len)\n",
        "\n",
        "print(char_tokenizer.decode(generated_tokens[0].tolist()))"
      ]
    },
    {
      "cell_type": "code",
      "execution_count": null,
      "metadata": {
        "id": "57w9pkJ8DmV2"
      },
      "outputs": [],
      "source": [
        "print(len(char_tokenizer.decode(generated_tokens[0].tolist())))"
      ]
    },
    {
      "cell_type": "code",
      "execution_count": null,
      "metadata": {
        "id": "dMPKrvMWdNZO"
      },
      "outputs": [],
      "source": [
        "# Character Tokenizer\n",
        "# Positional Embedding\n",
        "cfg = TokenizerPosEmbConfig(tokenizer=char_tokenizer, pos_emb=True)\n",
        "c_w_pe, txt, char_tokenizer,  context_len = run_experiment(cfg)\n",
        "value = perplexity(c_w_pe, lotr_text[:len(lotr_text)], subword_tokenizer, cfg.context_length, cfg)\n"
      ]
    },
    {
      "cell_type": "code",
      "execution_count": null,
      "metadata": {
        "id": "_DQNnOy34LcB"
      },
      "outputs": [],
      "source": [
        "# Test Character with Pos Emb\n",
        "prompt = \"Gandalf \"\n",
        "generated_tokens = generate(c_w_pe, prompt, char_tokenizer, max_len=context_len)\n",
        "\n",
        "print(char_tokenizer.decode(generated_tokens[0].tolist()))"
      ]
    },
    {
      "cell_type": "code",
      "execution_count": null,
      "metadata": {
        "id": "3pDWfx-dcuUv"
      },
      "outputs": [],
      "source": [
        "# Subword Tokenizer\n",
        "# NO Positional Embedding\n",
        "cfg = TokenizerPosEmbConfig(tokenizer=subword_tokenizer, pos_emb=False)\n",
        "s_wo_pe, txt, subword_tokenizer,  context_len = run_experiment(cfg)\n",
        "value = perplexity(s_wo_pe, lotr_text[:len(lotr_text)], subword_tokenizer, cfg.context_length, cfg)\n"
      ]
    },
    {
      "cell_type": "code",
      "execution_count": null,
      "metadata": {
        "id": "wXqSCqwy4Ycm"
      },
      "outputs": [],
      "source": [
        "# Test Subword with out Pos Emb\n",
        "prompt = \"Gandalf\"\n",
        "generated_tokens = generate(s_wo_pe, prompt, subword_tokenizer, max_len=context_len)\n",
        "\n",
        "print(subword_tokenizer.decode(generated_tokens[0].tolist()))"
      ]
    },
    {
      "cell_type": "code",
      "execution_count": null,
      "metadata": {
        "id": "RahaV-l8C3ZG"
      },
      "outputs": [],
      "source": [
        "print(len(subword_tokenizer.decode(generated_tokens[0].tolist())))"
      ]
    },
    {
      "cell_type": "code",
      "execution_count": null,
      "metadata": {
        "id": "RFvzoaOypeXn"
      },
      "outputs": [],
      "source": [
        "# Subword Tokenizer\n",
        "# Positional Embedding\n",
        "cfg = TokenizerPosEmbConfig(tokenizer=subword_tokenizer, pos_emb=True)\n",
        "s_w_pe, txt, subword_tokenizer,  context_len = run_experiment(cfg)\n",
        "value = perplexity(s_w_pe, lotr_text[:len(lotr_text)], subword_tokenizer, cfg.context_length, cfg)\n",
        "# ============== STUDENT PART (END) =================================="
      ]
    },
    {
      "cell_type": "code",
      "execution_count": null,
      "metadata": {
        "collapsed": true,
        "id": "vYHocU7R4bCP"
      },
      "outputs": [],
      "source": [
        "# Test Subword with Pos Emb\n",
        "prompt = \"_One Ring to rule them all, One Ring to find them, One Ring\"\n",
        "generated_tokens = generate(s_w_pe, prompt, subword_tokenizer, max_len=context_len)\n",
        "\n",
        "print(subword_tokenizer.decode(generated_tokens[0].tolist()))"
      ]
    },
    {
      "cell_type": "code",
      "execution_count": null,
      "metadata": {
        "id": "Fu7hg2RB7I5O"
      },
      "outputs": [],
      "source": [
        "value = perplexity(s_w_pe, lotr_text[:len(lotr_text)], subword_tokenizer, cfg.context_length, cfg)\n"
      ]
    },
    {
      "cell_type": "markdown",
      "metadata": {
        "id": "vBqWQTTBpEJU"
      },
      "source": [
        "### Test your model with prompts"
      ]
    },
    {
      "cell_type": "code",
      "execution_count": null,
      "metadata": {
        "id": "EEd-WhPjpDjQ"
      },
      "outputs": [],
      "source": [
        "# Test your model\n",
        "prompt = \"Gandalf and Bilbo go on a \"\n",
        "generated_tokens = generate(model, prompt, subword_tokenizer, max_len=config.context_length)\n",
        "\n",
        "print(tokenizer.decode(generated_tokens[0].tolist()))"
      ]
    },
    {
      "cell_type": "markdown",
      "metadata": {
        "id": "evuvbNRWqAt1"
      },
      "source": [
        "### **Optional** (Only Karma Points)\n",
        "Generate a story about Gandalf with your best LM (*feel free to change the configuration*) and share it in the respective **Content Q&A forum** thread.\n"
      ]
    },
    {
      "cell_type": "code",
      "execution_count": null,
      "metadata": {
        "id": "Ed8XESdoqAJT"
      },
      "outputs": [],
      "source": [
        "# ============== STUDENT PART (START) ==================================\n",
        "\n",
        "prompt = \"...\"\n",
        "\n",
        "gandalfs_story = ...\n",
        "\n",
        "# ================ STUDENT PART (END) =================================="
      ]
    }
  ],
  "metadata": {
    "accelerator": "GPU",
    "colab": {
      "gpuType": "T4",
      "provenance": []
    },
    "kernelspec": {
      "display_name": "Python 3",
      "name": "python3"
    },
    "language_info": {
      "name": "python"
    }
  },
  "nbformat": 4,
  "nbformat_minor": 0
}